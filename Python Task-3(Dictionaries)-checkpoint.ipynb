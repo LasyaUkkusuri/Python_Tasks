{
 "cells": [
  {
   "cell_type": "code",
   "execution_count": null,
   "id": "c87db616",
   "metadata": {},
   "outputs": [],
   "source": [
    "#Dictionaries"
   ]
  },
  {
   "cell_type": "code",
   "execution_count": 3,
   "id": "a632c3f3",
   "metadata": {},
   "outputs": [
    {
     "name": "stdout",
     "output_type": "stream",
     "text": [
      "asdf\n",
      "16\n"
     ]
    }
   ],
   "source": [
    "my_dict = {'name': 'asdf', 'age': 16}\n",
    "print(my_dict['name'])\n",
    " \n",
    "print(my_dict.get('age'))#accessing\n"
   ]
  },
  {
   "cell_type": "code",
   "execution_count": 16,
   "id": "b5911f2b",
   "metadata": {},
   "outputs": [
    {
     "name": "stdout",
     "output_type": "stream",
     "text": [
      "7\n"
     ]
    }
   ],
   "source": [
    "#accessing\n",
    "player_data = {\"Ronaldo\": 7, \"Messi\": 10, \"Bale\": 9}\n",
    "ronaldo_number = player_data[\"Ronaldo\"]\n",
    "print(ronaldo_number)"
   ]
  },
  {
   "cell_type": "code",
   "execution_count": 4,
   "id": "86bd884d",
   "metadata": {},
   "outputs": [
    {
     "name": "stdout",
     "output_type": "stream",
     "text": [
      "{'name': 'asdf', 'age': 27}\n",
      "{'name': 'asdf', 'age': 27, 'address': 'Downtown'}\n"
     ]
    }
   ],
   "source": [
    "#Updating and adding dictionary elements\n",
    "\n",
    "my_dict = {'name': 'asdf', 'age': 16}\n",
    "\n",
    "my_dict['age'] = 27\n",
    "\n",
    "print(my_dict)\n",
    "\n",
    "my_dict['address'] = 'Downtown'\n",
    "\n",
    "print(my_dict)\n"
   ]
  },
  {
   "cell_type": "code",
   "execution_count": 9,
   "id": "42bbc0f2",
   "metadata": {},
   "outputs": [
    {
     "name": "stdout",
     "output_type": "stream",
     "text": [
      "16\n",
      "{1: 1, 2: 4, 3: 9, 5: 25}\n",
      "(5, 25)\n",
      "{1: 1, 2: 4, 3: 9}\n",
      "{}\n"
     ]
    }
   ],
   "source": [
    "# Removing elements from a dictionary\n",
    "\n",
    "# create a dictionary\n",
    "squares = {1: 1, 2: 4, 3: 9, 4: 16, 5: 25}\n",
    "\n",
    "# remove a particular item, returns its value\n",
    "# Output: 16\n",
    "print(squares.pop(4))\n",
    "\n",
    "# Output: {1: 1, 2: 4, 3: 9, 5: 25}\n",
    "print(squares)\n",
    "\n",
    "# remove an arbitrary item, return (key,value)\n",
    "# Output: (5, 25)\n",
    "print(squares.popitem())\n",
    "\n",
    "print(squares)\n",
    "\n",
    "squares.clear()\n",
    "\n",
    "print(squares)\n",
    "\n",
    "del squares\n"
   ]
  },
  {
   "cell_type": "code",
   "execution_count": 10,
   "id": "b3697271",
   "metadata": {},
   "outputs": [
    {
     "name": "stdout",
     "output_type": "stream",
     "text": [
      "{}\n"
     ]
    }
   ],
   "source": [
    "#methods\n",
    "#clear()\n",
    "numbers = {1: \"one\", 2: \"two\"}\n",
    "\n",
    "# removes all the items from the dictionary\n",
    "numbers.clear()\n",
    "\n",
    "print(numbers)\n"
   ]
  },
  {
   "cell_type": "code",
   "execution_count": 11,
   "id": "2f20b4a7",
   "metadata": {},
   "outputs": [
    {
     "name": "stdout",
     "output_type": "stream",
     "text": [
      "{'b': 1, 'c': 1, 'a': 1}\n"
     ]
    }
   ],
   "source": [
    "#fromkeys()\n",
    "# keys for the dictionary\n",
    "alphabets = {'a', 'b', 'c'}\n",
    "\n",
    "# value for the dictionary\n",
    "number = 1\n",
    "\n",
    "# creates a dictionary with keys and values\n",
    "dictionary = dict.fromkeys(alphabets, number)\n",
    "\n",
    "print(dictionary)"
   ]
  },
  {
   "cell_type": "code",
   "execution_count": 12,
   "id": "9850aab0",
   "metadata": {},
   "outputs": [
    {
     "name": "stdout",
     "output_type": "stream",
     "text": [
      "person =  {'name': 'asdf', 'age': 22}\n",
      "Age =  22\n"
     ]
    }
   ],
   "source": [
    "#setdefault()\n",
    "person = {'name': 'asdf', 'age': 22}\n",
    "\n",
    "age = person.setdefault('age')\n",
    "print('person = ',person)\n",
    "print('Age = ',age)"
   ]
  },
  {
   "cell_type": "code",
   "execution_count": 13,
   "id": "e0555f94",
   "metadata": {},
   "outputs": [
    {
     "name": "stdout",
     "output_type": "stream",
     "text": [
      "67\n"
     ]
    }
   ],
   "source": [
    "#get()\n",
    "marks = {'Physics':67, 'Maths':87}\n",
    "\n",
    "print(marks.get('Physics'))\n"
   ]
  },
  {
   "cell_type": "code",
   "execution_count": 15,
   "id": "cecde2a8",
   "metadata": {},
   "outputs": [
    {
     "name": "stdout",
     "output_type": "stream",
     "text": [
      "Popped Marks: 72\n"
     ]
    }
   ],
   "source": [
    "#pop()\n",
    "# create a dictionary\n",
    "marks = { 'Physics': 67, 'Chemistry': 72, 'Math': 89 }\n",
    "\n",
    "element = marks.pop('Chemistry')\n",
    "\n",
    "print('Popped Marks:', element)"
   ]
  },
  {
   "cell_type": "code",
   "execution_count": 18,
   "id": "ee740a28",
   "metadata": {},
   "outputs": [
    {
     "name": "stdout",
     "output_type": "stream",
     "text": [
      "('AA', 11)\n",
      "('BB', 22)\n",
      "('CC', 33)\n",
      "('DD', 44)\n",
      "\n",
      "('AA', 11)\n",
      "('BB', 22)\n",
      "('CC', 33)\n",
      "('DD', 44)\n"
     ]
    }
   ],
   "source": [
    "#ordered dict\n",
    "import collections\n",
    "#Create normal dict\n",
    "my_dict = {}\n",
    "my_dict['AA'] = 11\n",
    "my_dict['BB'] = 22\n",
    "my_dict['CC'] = 33\n",
    "my_dict['DD'] = 44\n",
    "for item in my_dict.items():\n",
    "    print(item)\n",
    "print()\n",
    "#Create ordered dict\n",
    "my_ord_dict = collections.OrderedDict()\n",
    "my_ord_dict['AA'] = 11\n",
    "my_ord_dict['BB'] = 22\n",
    "my_ord_dict['CC'] = 33\n",
    "my_ord_dict['DD'] = 44\n",
    "for item in my_ord_dict.items():\n",
    "    print(item)"
   ]
  },
  {
   "cell_type": "code",
   "execution_count": 19,
   "id": "14e332b8",
   "metadata": {},
   "outputs": [
    {
     "name": "stdout",
     "output_type": "stream",
     "text": [
      "{'a': 1, 'b': 2, 'c': 3}\n"
     ]
    }
   ],
   "source": [
    "#list to dict\n",
    "#method-1 dic comprehension\n",
    "\n",
    "def Convert(lst):\n",
    "    res_dct = {lst[i]: lst[i + 1] for i in range(0, len(lst), 2)}\n",
    "    return res_dct\n",
    "\n",
    "lst = ['a', 1, 'b', 2, 'c', 3]\n",
    "print(Convert(lst))"
   ]
  },
  {
   "cell_type": "code",
   "execution_count": 21,
   "id": "750ec710",
   "metadata": {},
   "outputs": [
    {
     "name": "stdout",
     "output_type": "stream",
     "text": [
      "{'a': 1, 'b': 2, 'c': 3}\n"
     ]
    }
   ],
   "source": [
    "#method-2 Using zip() method\n",
    "def Convert(a):\n",
    "    it = iter(a)\n",
    "    res_dct = dict(zip(it, it))\n",
    "    return res_dct\n",
    "lst = ['a', 1, 'b', 2, 'c', 3]\n",
    "print(Convert(lst))"
   ]
  },
  {
   "cell_type": "code",
   "execution_count": 22,
   "id": "ee60defe",
   "metadata": {},
   "outputs": [
    {
     "name": "stdout",
     "output_type": "stream",
     "text": [
      "{'a': 1, 'b': 2, 'c': 3}\n"
     ]
    }
   ],
   "source": [
    "#Method -3 Using the map and dict method\n",
    "def Convert(lst):\n",
    "    res_dct = map(lambda i: (lst[i], lst[i+1]), range(len(lst)-1)[::2])\n",
    "    return dict(res_dct)\n",
    "lst = ['a', 1, 'b', 2, 'c', 3]\n",
    "print(Convert(lst))"
   ]
  },
  {
   "cell_type": "code",
   "execution_count": 24,
   "id": "294c9da3",
   "metadata": {},
   "outputs": [
    {
     "name": "stdout",
     "output_type": "stream",
     "text": [
      "[('name', 'python'), ('version', 3.9)]\n"
     ]
    }
   ],
   "source": [
    "#dict lo list\n",
    "d = {\"name\":\"python\", \"version\":3.9}\n",
    "new_list = list(d.items())\n",
    "print(new_list)"
   ]
  },
  {
   "cell_type": "code",
   "execution_count": 25,
   "id": "8398b2d5",
   "metadata": {},
   "outputs": [
    {
     "name": "stdout",
     "output_type": "stream",
     "text": [
      "['python', 3.9]\n"
     ]
    }
   ],
   "source": [
    "d = {\"name\":\"python\", \"version\":3.9}\n",
    "new_list = list(d.values())\n",
    "print(new_list)"
   ]
  },
  {
   "cell_type": "code",
   "execution_count": 26,
   "id": "7f932df5",
   "metadata": {},
   "outputs": [
    {
     "name": "stdout",
     "output_type": "stream",
     "text": [
      "{'child1': {'name': 'Emil', 'year': 2004}, 'child2': {'name': 'Tobias', 'year': 2007}, 'child3': {'name': 'Linus', 'year': 2011}}\n"
     ]
    }
   ],
   "source": [
    "#Nested Dictionaries\n",
    "myfamily = {\n",
    "  \"child1\" : {\n",
    "    \"name\" : \"Emil\",\n",
    "    \"year\" : 2004\n",
    "  },\n",
    "  \"child2\" : {\n",
    "    \"name\" : \"Tobias\",\n",
    "    \"year\" : 2007\n",
    "  },\n",
    "  \"child3\" : {\n",
    "    \"name\" : \"Linus\",\n",
    "    \"year\" : 2011\n",
    "  }\n",
    "}\n",
    "\n",
    "print(myfamily)"
   ]
  }
 ],
 "metadata": {
  "kernelspec": {
   "display_name": "Python 3 (ipykernel)",
   "language": "python",
   "name": "python3"
  },
  "language_info": {
   "codemirror_mode": {
    "name": "ipython",
    "version": 3
   },
   "file_extension": ".py",
   "mimetype": "text/x-python",
   "name": "python",
   "nbconvert_exporter": "python",
   "pygments_lexer": "ipython3",
   "version": "3.9.7"
  }
 },
 "nbformat": 4,
 "nbformat_minor": 5
}
