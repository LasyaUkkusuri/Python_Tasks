{
 "cells": [
  {
   "cell_type": "markdown",
   "id": "291637c6",
   "metadata": {},
   "source": [
    "# PYTHON TASK-1"
   ]
  },
  {
   "cell_type": "code",
   "execution_count": null,
   "id": "18a92c10",
   "metadata": {},
   "outputs": [],
   "source": [
    "#print statements\n",
    "#Formatted output\n",
    "q = 459\n",
    "p = 0.098\n",
    "print(q, p, p * q) "
   ]
  },
  {
   "cell_type": "code",
   "execution_count": 2,
   "id": "b5a01fc6",
   "metadata": {},
   "outputs": [
    {
     "name": "stdout",
     "output_type": "stream",
     "text": [
      "459,0.098,44.982\n"
     ]
    }
   ],
   "source": [
    "print(q, p, p * q, sep=\",\")"
   ]
  },
  {
   "cell_type": "code",
   "execution_count": 3,
   "id": "a4af15b7",
   "metadata": {},
   "outputs": [
    {
     "name": "stdout",
     "output_type": "stream",
     "text": [
      "459 :-) 0.098 :-) 44.982\n"
     ]
    }
   ],
   "source": [
    "print(q, p, p * q, sep=\" :-) \")"
   ]
  },
  {
   "cell_type": "code",
   "execution_count": 4,
   "id": "3a466fc4",
   "metadata": {},
   "outputs": [
    {
     "name": "stdout",
     "output_type": "stream",
     "text": [
      "459 0.098 44.982\n"
     ]
    }
   ],
   "source": [
    "print(str(q) + \" \" + str(p) + \" \" + str(p * q))"
   ]
  },
  {
   "cell_type": "code",
   "execution_count": 5,
   "id": "9a1850dc",
   "metadata": {},
   "outputs": [
    {
     "name": "stdout",
     "output_type": "stream",
     "text": [
      " 3.561e+02\n"
     ]
    }
   ],
   "source": [
    "print(\"%10.3e\"% (356.08977))"
   ]
  },
  {
   "cell_type": "code",
   "execution_count": 6,
   "id": "385ae4d6",
   "metadata": {},
   "outputs": [
    {
     "name": "stdout",
     "output_type": "stream",
     "text": [
      "       031\n"
     ]
    }
   ],
   "source": [
    "print(\"%10.3o\"% (25))"
   ]
  },
  {
   "cell_type": "code",
   "execution_count": 7,
   "id": "8a3aff7c",
   "metadata": {},
   "outputs": [
    {
     "name": "stdout",
     "output_type": "stream",
     "text": [
      "Hi\n",
      "Hello\n"
     ]
    }
   ],
   "source": [
    "#Raw Type\n",
    "s = 'Hi\\nHello'\n",
    "print(s)"
   ]
  },
  {
   "cell_type": "code",
   "execution_count": 8,
   "id": "b7406f09",
   "metadata": {},
   "outputs": [
    {
     "name": "stdout",
     "output_type": "stream",
     "text": [
      "Hi\\nHello\n"
     ]
    }
   ],
   "source": [
    "raw_s = r'Hi\\nHello'\n",
    "print(raw_s)"
   ]
  },
  {
   "cell_type": "code",
   "execution_count": 10,
   "id": "da5ca27a",
   "metadata": {},
   "outputs": [
    {
     "name": "stdout",
     "output_type": "stream",
     "text": [
      "Hi\\xHello\n"
     ]
    }
   ],
   "source": [
    "s = r'Hi\\xHello'\n",
    "print(s)"
   ]
  },
  {
   "cell_type": "code",
   "execution_count": 11,
   "id": "b882052e",
   "metadata": {},
   "outputs": [
    {
     "name": "stdout",
     "output_type": "stream",
     "text": [
      "\\'\n",
      "ab\\\\\n",
      "\\\\\\\"\n"
     ]
    }
   ],
   "source": [
    "s = r'\\''\n",
    "print(s)\n",
    "\n",
    "s = r'ab\\\\'\n",
    "print(s)\n",
    "\n",
    "s = R'\\\\\\\"'  # prefix can be 'R' or 'r'\n",
    "print(s)"
   ]
  },
  {
   "cell_type": "code",
   "execution_count": 14,
   "id": "917e7dcb",
   "metadata": {},
   "outputs": [
    {
     "name": "stdout",
     "output_type": "stream",
     "text": [
      "<class 'int'>\n"
     ]
    }
   ],
   "source": [
    "#data types\n",
    "x = 5\n",
    "print(type(x))"
   ]
  },
  {
   "cell_type": "code",
   "execution_count": 15,
   "id": "8c204f28",
   "metadata": {},
   "outputs": [
    {
     "name": "stdout",
     "output_type": "stream",
     "text": [
      "<class 'float'>\n"
     ]
    }
   ],
   "source": [
    "a=0.5\n",
    "print(type(a))"
   ]
  },
  {
   "cell_type": "code",
   "execution_count": 16,
   "id": "8762dac0",
   "metadata": {},
   "outputs": [
    {
     "name": "stdout",
     "output_type": "stream",
     "text": [
      "<class 'str'>\n"
     ]
    }
   ],
   "source": [
    "b=\"lasya\"\n",
    "print(type(b))"
   ]
  },
  {
   "cell_type": "code",
   "execution_count": 17,
   "id": "dca0de8c",
   "metadata": {},
   "outputs": [
    {
     "name": "stdout",
     "output_type": "stream",
     "text": [
      "<class 'set'>\n"
     ]
    }
   ],
   "source": [
    "a={1,2,3,4,5}\n",
    "print(type(a))"
   ]
  },
  {
   "cell_type": "code",
   "execution_count": 18,
   "id": "94d30823",
   "metadata": {},
   "outputs": [
    {
     "name": "stdout",
     "output_type": "stream",
     "text": [
      "<class 'tuple'>\n"
     ]
    }
   ],
   "source": [
    "a=(1,2,3,4,5)\n",
    "print(type(a))"
   ]
  },
  {
   "cell_type": "code",
   "execution_count": 19,
   "id": "fd0996cd",
   "metadata": {},
   "outputs": [
    {
     "name": "stdout",
     "output_type": "stream",
     "text": [
      "<class 'list'>\n"
     ]
    }
   ],
   "source": [
    "a=[1,2,3,4,5]\n",
    "print(type(a))"
   ]
  },
  {
   "cell_type": "code",
   "execution_count": null,
   "id": "9bc56b5c",
   "metadata": {},
   "outputs": [],
   "source": [
    "#string append-1)using string.join() 2) using python f-strings\n"
   ]
  },
  {
   "cell_type": "code",
   "execution_count": 22,
   "id": "8c502e8b",
   "metadata": {},
   "outputs": [
    {
     "name": "stdout",
     "output_type": "stream",
     "text": [
      "name: lasya\n",
      "initial : ukkusuri\n",
      "full name is: lasyaukkusuri\n"
     ]
    }
   ],
   "source": [
    "#using +=\n",
    "name=\"lasya\"\n",
    "initial=\"ukkusuri\"\n",
    "print(\"name: \" + str(name))\n",
    "\n",
    "print(\"initial : \" + str(initial))\n",
    "name+=initial\n",
    "print(\"full name is: \" + name)"
   ]
  },
  {
   "cell_type": "code",
   "execution_count": 27,
   "id": "d7408143",
   "metadata": {},
   "outputs": [
    {
     "name": "stdout",
     "output_type": "stream",
     "text": [
      "name: lasya\n",
      "initial : ukkusuri\n",
      "NAME : ukkusurilasya\n"
     ]
    }
   ],
   "source": [
    "#using join\n",
    "name=\"lasya\"\n",
    "initial=\"ukkusuri\"\n",
    "print(\"name: \" + str(name))\n",
    "print(\"initial : \" + str(initial))\n",
    "fullname=[initial,name]\n",
    "fname=\"\".join(fullname)\n",
    "print(\"NAME : \" +fname)"
   ]
  },
  {
   "cell_type": "code",
   "execution_count": 1,
   "id": "1024098a",
   "metadata": {},
   "outputs": [
    {
     "name": "stdout",
     "output_type": "stream",
     "text": [
      "String Concatenation using f-string = Hello World\n"
     ]
    }
   ],
   "source": [
    "#f-strings\n",
    "s1 = 'Hello'\n",
    "s2 = 'World'\n",
    "\n",
    "s3 = f'{s1} {s2}'\n",
    "print('String Concatenation using f-string =', s3)\n",
    "\n"
   ]
  },
  {
   "cell_type": "code",
   "execution_count": null,
   "id": "85032d01",
   "metadata": {},
   "outputs": [],
   "source": [
    "#Python Variables"
   ]
  },
  {
   "cell_type": "code",
   "execution_count": 2,
   "id": "2c63a97e",
   "metadata": {},
   "outputs": [
    {
     "name": "stdout",
     "output_type": "stream",
     "text": [
      "5\n",
      "lasya\n"
     ]
    }
   ],
   "source": [
    "x = 5\n",
    "y = \"lasya\"\n",
    "print(x)\n",
    "print(y)"
   ]
  },
  {
   "cell_type": "code",
   "execution_count": 3,
   "id": "188062ae",
   "metadata": {},
   "outputs": [
    {
     "name": "stdout",
     "output_type": "stream",
     "text": [
      "lasya\n"
     ]
    }
   ],
   "source": [
    "x = 4       # x is of type int\n",
    "x = \"lasya\" # x is now of type str\n",
    "print(x)"
   ]
  },
  {
   "cell_type": "code",
   "execution_count": 4,
   "id": "652e9463",
   "metadata": {},
   "outputs": [
    {
     "name": "stdout",
     "output_type": "stream",
     "text": [
      "3\n",
      "3\n",
      "3.0\n"
     ]
    }
   ],
   "source": [
    "x = str(3)    # x will be '3'\n",
    "y = int(3)    # y will be 3\n",
    "z = float(3)  # z will be 3.0\n",
    "print(x)\n",
    "print(y)\n",
    "print(z)\n"
   ]
  },
  {
   "cell_type": "code",
   "execution_count": null,
   "id": "104bdc5a",
   "metadata": {},
   "outputs": [],
   "source": [
    "#Python Loops"
   ]
  },
  {
   "cell_type": "code",
   "execution_count": 5,
   "id": "45029fd2",
   "metadata": {},
   "outputs": [
    {
     "name": "stdout",
     "output_type": "stream",
     "text": [
      "apple\n",
      "banana\n",
      "cherry\n"
     ]
    }
   ],
   "source": [
    "fruits = [\"apple\", \"banana\", \"cherry\"]\n",
    "for x in fruits:\n",
    "    print(x)"
   ]
  },
  {
   "cell_type": "code",
   "execution_count": 6,
   "id": "5093750b",
   "metadata": {},
   "outputs": [
    {
     "name": "stdout",
     "output_type": "stream",
     "text": [
      "b\n",
      "a\n",
      "n\n",
      "a\n",
      "n\n",
      "a\n"
     ]
    }
   ],
   "source": [
    "for x in \"banana\":\n",
    "    print(x)\n"
   ]
  },
  {
   "cell_type": "code",
   "execution_count": 17,
   "id": "4d605ec3",
   "metadata": {},
   "outputs": [
    {
     "name": "stdout",
     "output_type": "stream",
     "text": [
      "apple\n",
      "banana\n"
     ]
    }
   ],
   "source": [
    "fruits = [\"apple\", \"banana\", \"cherry\"]\n",
    "for x in fruits:\n",
    "    print(x)\n",
    "    if x == \"banana\":\n",
    "        break\n"
   ]
  }
 ],
 "metadata": {
  "kernelspec": {
   "display_name": "Python 3 (ipykernel)",
   "language": "python",
   "name": "python3"
  },
  "language_info": {
   "codemirror_mode": {
    "name": "ipython",
    "version": 3
   },
   "file_extension": ".py",
   "mimetype": "text/x-python",
   "name": "python",
   "nbconvert_exporter": "python",
   "pygments_lexer": "ipython3",
   "version": "3.9.7"
  }
 },
 "nbformat": 4,
 "nbformat_minor": 5
}
