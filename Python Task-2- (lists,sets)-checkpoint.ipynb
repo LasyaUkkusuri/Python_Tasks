{
 "cells": [
  {
   "cell_type": "code",
   "execution_count": null,
   "id": "5f647377",
   "metadata": {},
   "outputs": [],
   "source": [
    "#Python Lists"
   ]
  },
  {
   "cell_type": "code",
   "execution_count": 1,
   "id": "e71e5b38",
   "metadata": {},
   "outputs": [
    {
     "name": "stdout",
     "output_type": "stream",
     "text": [
      "['apple', 'banana', 'cherry']\n"
     ]
    }
   ],
   "source": [
    "thislist = [\"apple\", \"banana\", \"cherry\"]\n",
    "print(thislist)"
   ]
  },
  {
   "cell_type": "code",
   "execution_count": 2,
   "id": "bc4ab937",
   "metadata": {},
   "outputs": [
    {
     "name": "stdout",
     "output_type": "stream",
     "text": [
      "3\n"
     ]
    }
   ],
   "source": [
    "thislist = [\"apple\", \"banana\", \"cherry\"]\n",
    "print(len(thislist))"
   ]
  },
  {
   "cell_type": "code",
   "execution_count": 3,
   "id": "1361c182",
   "metadata": {},
   "outputs": [
    {
     "name": "stdout",
     "output_type": "stream",
     "text": [
      "['apple', 'banana', 'cherry']\n",
      "[1, 5, 7, 9, 3]\n",
      "[True, False, False]\n"
     ]
    }
   ],
   "source": [
    "list1 = [\"apple\", \"banana\", \"cherry\"]\n",
    "list2 = [1, 5, 7, 9, 3]\n",
    "list3 = [True, False, False]\n",
    "\n",
    "print(list1)\n",
    "print(list2)\n",
    "print(list3)\n"
   ]
  },
  {
   "cell_type": "code",
   "execution_count": null,
   "id": "a2becc2f",
   "metadata": {},
   "outputs": [],
   "source": [
    "#list datatypes"
   ]
  },
  {
   "cell_type": "code",
   "execution_count": 7,
   "id": "9aa9db67",
   "metadata": {},
   "outputs": [
    {
     "name": "stdout",
     "output_type": "stream",
     "text": [
      "<class 'list'>\n",
      "<class 'list'>\n",
      "<class 'list'>\n"
     ]
    }
   ],
   "source": [
    "list1 = [\"apple\", \"banana\", \"cherry\"]\n",
    "list2 = [1, 5, 7, 9, 3]\n",
    "list3 = [True, False, False]\n",
    "\n",
    "print(type(list1))\n",
    "print(type(list2))\n",
    "print(type(list3))"
   ]
  },
  {
   "cell_type": "code",
   "execution_count": null,
   "id": "3d8f661f",
   "metadata": {},
   "outputs": [],
   "source": [
    "#list methods"
   ]
  },
  {
   "cell_type": "code",
   "execution_count": 9,
   "id": "61519cd5",
   "metadata": {},
   "outputs": [
    {
     "name": "stdout",
     "output_type": "stream",
     "text": [
      "['lasya', 'sriya', 'sowjanya']\n",
      "['lasya', 'sriya', 'sowjanya', 'chandra']\n"
     ]
    }
   ],
   "source": [
    "#append()\n",
    "list=[\"lasya\",\"sriya\",\"sowjanya\"]\n",
    "print(list)\n",
    "list.append(\"chandra\")\n",
    "print(list)"
   ]
  },
  {
   "cell_type": "code",
   "execution_count": 10,
   "id": "9ee188ca",
   "metadata": {},
   "outputs": [
    {
     "name": "stdout",
     "output_type": "stream",
     "text": [
      "List after extend(): [1, 4, 2, 3, 5]\n"
     ]
    }
   ],
   "source": [
    "#extend()\n",
    "\n",
    "prime_numbers = [2, 3, 5]\n",
    "numbers = [1, 4]\n",
    "\n",
    "numbers.extend(prime_numbers)\n",
    "\n",
    "print('List after extend():', numbers)\n"
   ]
  },
  {
   "cell_type": "code",
   "execution_count": 11,
   "id": "e96005cb",
   "metadata": {},
   "outputs": [
    {
     "name": "stdout",
     "output_type": "stream",
     "text": [
      "[2, 3, 5, 7, 11]\n"
     ]
    }
   ],
   "source": [
    "#sort()\n",
    "prime_numbers = [11, 3, 7, 5, 2]\n",
    "prime_numbers.sort()\n",
    "\n",
    "print(prime_numbers)\n"
   ]
  },
  {
   "cell_type": "code",
   "execution_count": 12,
   "id": "dc1f967e",
   "metadata": {},
   "outputs": [
    {
     "name": "stdout",
     "output_type": "stream",
     "text": [
      "Copied List: [2, 3, 5]\n"
     ]
    }
   ],
   "source": [
    "#Copy()\n",
    "\n",
    "prime_numbers = [2, 3, 5]\n",
    "numbers = prime_numbers.copy()\n",
    "print('Copied List:', numbers)"
   ]
  },
  {
   "cell_type": "code",
   "execution_count": 13,
   "id": "44cbde25",
   "metadata": {},
   "outputs": [
    {
     "name": "stdout",
     "output_type": "stream",
     "text": [
      "List after clear(): []\n"
     ]
    }
   ],
   "source": [
    "#Clear\n",
    "prime_numbers = [2, 3, 5, 7, 9, 11]\n",
    "prime_numbers.clear()\n",
    "print('List after clear():', prime_numbers)"
   ]
  },
  {
   "cell_type": "code",
   "execution_count": null,
   "id": "fe2c694a",
   "metadata": {},
   "outputs": [],
   "source": [
    "#Python Sets"
   ]
  },
  {
   "cell_type": "code",
   "execution_count": 14,
   "id": "44e2bf3b",
   "metadata": {},
   "outputs": [
    {
     "data": {
      "text/plain": [
       "{'black', 'blue', 'green', 'pink'}"
      ]
     },
     "execution_count": 14,
     "metadata": {},
     "output_type": "execute_result"
    }
   ],
   "source": [
    "Colors={\"pink\",\"black\",\"blue\",\"green\"}\n",
    "Colors"
   ]
  },
  {
   "cell_type": "code",
   "execution_count": null,
   "id": "95e10ca6",
   "metadata": {},
   "outputs": [],
   "source": [
    "#Set Methods"
   ]
  },
  {
   "cell_type": "code",
   "execution_count": 19,
   "id": "3fb33bc8",
   "metadata": {},
   "outputs": [
    {
     "name": "stdout",
     "output_type": "stream",
     "text": [
      "{2, 3, 5, 7, 11}\n"
     ]
    }
   ],
   "source": [
    "#Set add()\n",
    "prime_numbers = {2, 3, 5, 7}\n",
    "prime_numbers.add(11)\n",
    "print(prime_numbers)"
   ]
  },
  {
   "cell_type": "code",
   "execution_count": 20,
   "id": "13b20636",
   "metadata": {},
   "outputs": [
    {
     "name": "stdout",
     "output_type": "stream",
     "text": [
      "set()\n"
     ]
    }
   ],
   "source": [
    "#Set clear()\n",
    "primeNumbers = {2, 3, 5, 7}\n",
    "primeNumbers.clear()\n",
    "print(primeNumbers)"
   ]
  },
  {
   "cell_type": "code",
   "execution_count": 21,
   "id": "e017d341",
   "metadata": {},
   "outputs": [
    {
     "name": "stdout",
     "output_type": "stream",
     "text": [
      "True\n"
     ]
    }
   ],
   "source": [
    "# Set isdisjoint()\n",
    "A = {1, 2, 3, }\n",
    "B = {4, 5, 6}\n",
    "print(A.isdisjoint(B))"
   ]
  },
  {
   "cell_type": "code",
   "execution_count": 23,
   "id": "4433242a",
   "metadata": {},
   "outputs": [
    {
     "name": "stdout",
     "output_type": "stream",
     "text": [
      "{3, 5}\n"
     ]
    }
   ],
   "source": [
    "#Set intersection()\n",
    "A = {2, 3, 5}\n",
    "B = {1, 3, 5}\n",
    "print(A.intersection(B))"
   ]
  },
  {
   "cell_type": "code",
   "execution_count": 24,
   "id": "bb7aac37",
   "metadata": {},
   "outputs": [
    {
     "name": "stdout",
     "output_type": "stream",
     "text": [
      "True\n"
     ]
    }
   ],
   "source": [
    "#Set issubset()\n",
    "A = {1, 2, 3}\n",
    "B = {1, 2, 3, 4, 5}\n",
    "print(A.issubset(B))"
   ]
  }
 ],
 "metadata": {
  "kernelspec": {
   "display_name": "Python 3 (ipykernel)",
   "language": "python",
   "name": "python3"
  },
  "language_info": {
   "codemirror_mode": {
    "name": "ipython",
    "version": 3
   },
   "file_extension": ".py",
   "mimetype": "text/x-python",
   "name": "python",
   "nbconvert_exporter": "python",
   "pygments_lexer": "ipython3",
   "version": "3.9.7"
  }
 },
 "nbformat": 4,
 "nbformat_minor": 5
}
